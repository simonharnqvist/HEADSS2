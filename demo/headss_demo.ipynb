{
 "cells": [
  {
   "cell_type": "markdown",
   "id": "3f72e34b",
   "metadata": {},
   "source": [
    "# HEADSS2 Demo\n",
    "This notebook goes through the key functionality of HEADSS2. For a more detailed background as well as the API reference, see the official [documentation](https://headss2.readthedocs.io/en/latest/)."
   ]
  },
  {
   "cell_type": "markdown",
   "id": "91075766",
   "metadata": {},
   "source": [
    "## Example datasets\n",
    "HEADSS2 comes with ten example datasets"
   ]
  },
  {
   "cell_type": "markdown",
   "id": "e7bb2259",
   "metadata": {},
   "source": [
    "![title](datasets.png)\n"
   ]
  },
  {
   "cell_type": "markdown",
   "id": "256952b2",
   "metadata": {},
   "source": [
    "The `dataset(name)` function retrieves each dataset as a Pandas dataframe. "
   ]
  },
  {
   "cell_type": "code",
   "execution_count": 17,
   "id": "6cae72f7",
   "metadata": {},
   "outputs": [
    {
     "data": {
      "text/html": [
       "<div>\n",
       "<style scoped>\n",
       "    .dataframe tbody tr th:only-of-type {\n",
       "        vertical-align: middle;\n",
       "    }\n",
       "\n",
       "    .dataframe tbody tr th {\n",
       "        vertical-align: top;\n",
       "    }\n",
       "\n",
       "    .dataframe thead th {\n",
       "        text-align: right;\n",
       "    }\n",
       "</style>\n",
       "<table border=\"1\" class=\"dataframe\">\n",
       "  <thead>\n",
       "    <tr style=\"text-align: right;\">\n",
       "      <th></th>\n",
       "      <th>x</th>\n",
       "      <th>y</th>\n",
       "    </tr>\n",
       "  </thead>\n",
       "  <tbody>\n",
       "    <tr>\n",
       "      <th>0</th>\n",
       "      <td>25.0514</td>\n",
       "      <td>5.7475</td>\n",
       "    </tr>\n",
       "    <tr>\n",
       "      <th>1</th>\n",
       "      <td>26.6614</td>\n",
       "      <td>7.3414</td>\n",
       "    </tr>\n",
       "    <tr>\n",
       "      <th>2</th>\n",
       "      <td>25.2653</td>\n",
       "      <td>6.2466</td>\n",
       "    </tr>\n",
       "    <tr>\n",
       "      <th>3</th>\n",
       "      <td>25.2285</td>\n",
       "      <td>4.7447</td>\n",
       "    </tr>\n",
       "    <tr>\n",
       "      <th>4</th>\n",
       "      <td>25.7529</td>\n",
       "      <td>5.1564</td>\n",
       "    </tr>\n",
       "    <tr>\n",
       "      <th>...</th>\n",
       "      <td>...</td>\n",
       "      <td>...</td>\n",
       "    </tr>\n",
       "    <tr>\n",
       "      <th>3095</th>\n",
       "      <td>5.1380</td>\n",
       "      <td>16.6150</td>\n",
       "    </tr>\n",
       "    <tr>\n",
       "      <th>3096</th>\n",
       "      <td>5.7360</td>\n",
       "      <td>16.9991</td>\n",
       "    </tr>\n",
       "    <tr>\n",
       "      <th>3097</th>\n",
       "      <td>5.2760</td>\n",
       "      <td>17.2475</td>\n",
       "    </tr>\n",
       "    <tr>\n",
       "      <th>3098</th>\n",
       "      <td>6.4444</td>\n",
       "      <td>16.2033</td>\n",
       "    </tr>\n",
       "    <tr>\n",
       "      <th>3099</th>\n",
       "      <td>7.1620</td>\n",
       "      <td>18.1836</td>\n",
       "    </tr>\n",
       "  </tbody>\n",
       "</table>\n",
       "<p>3100 rows × 2 columns</p>\n",
       "</div>"
      ],
      "text/plain": [
       "            x        y\n",
       "0     25.0514   5.7475\n",
       "1     26.6614   7.3414\n",
       "2     25.2653   6.2466\n",
       "3     25.2285   4.7447\n",
       "4     25.7529   5.1564\n",
       "...       ...      ...\n",
       "3095   5.1380  16.6150\n",
       "3096   5.7360  16.9991\n",
       "3097   5.2760  17.2475\n",
       "3098   6.4444  16.2033\n",
       "3099   7.1620  18.1836\n",
       "\n",
       "[3100 rows x 2 columns]"
      ]
     },
     "execution_count": 17,
     "metadata": {},
     "output_type": "execute_result"
    }
   ],
   "source": [
    "from headss2 import dataset\n",
    "dataset(\"D31\")"
   ]
  },
  {
   "cell_type": "markdown",
   "id": "f91084a0",
   "metadata": {},
   "source": [
    "Note the use of an underscore instead of a full stop in the name of `t4_8k`"
   ]
  },
  {
   "cell_type": "code",
   "execution_count": 18,
   "id": "7300f658",
   "metadata": {},
   "outputs": [
    {
     "data": {
      "text/html": [
       "<div>\n",
       "<style scoped>\n",
       "    .dataframe tbody tr th:only-of-type {\n",
       "        vertical-align: middle;\n",
       "    }\n",
       "\n",
       "    .dataframe tbody tr th {\n",
       "        vertical-align: top;\n",
       "    }\n",
       "\n",
       "    .dataframe thead th {\n",
       "        text-align: right;\n",
       "    }\n",
       "</style>\n",
       "<table border=\"1\" class=\"dataframe\">\n",
       "  <thead>\n",
       "    <tr style=\"text-align: right;\">\n",
       "      <th></th>\n",
       "      <th>x</th>\n",
       "      <th>y</th>\n",
       "    </tr>\n",
       "  </thead>\n",
       "  <tbody>\n",
       "    <tr>\n",
       "      <th>0</th>\n",
       "      <td>68.601997</td>\n",
       "      <td>102.491997</td>\n",
       "    </tr>\n",
       "    <tr>\n",
       "      <th>1</th>\n",
       "      <td>454.665985</td>\n",
       "      <td>264.808990</td>\n",
       "    </tr>\n",
       "    <tr>\n",
       "      <th>2</th>\n",
       "      <td>101.283997</td>\n",
       "      <td>169.285995</td>\n",
       "    </tr>\n",
       "    <tr>\n",
       "      <th>3</th>\n",
       "      <td>372.614990</td>\n",
       "      <td>263.140991</td>\n",
       "    </tr>\n",
       "    <tr>\n",
       "      <th>4</th>\n",
       "      <td>300.989014</td>\n",
       "      <td>46.555000</td>\n",
       "    </tr>\n",
       "    <tr>\n",
       "      <th>...</th>\n",
       "      <td>...</td>\n",
       "      <td>...</td>\n",
       "    </tr>\n",
       "    <tr>\n",
       "      <th>7995</th>\n",
       "      <td>442.420990</td>\n",
       "      <td>303.721985</td>\n",
       "    </tr>\n",
       "    <tr>\n",
       "      <th>7996</th>\n",
       "      <td>495.451996</td>\n",
       "      <td>288.502991</td>\n",
       "    </tr>\n",
       "    <tr>\n",
       "      <th>7997</th>\n",
       "      <td>267.605011</td>\n",
       "      <td>141.725006</td>\n",
       "    </tr>\n",
       "    <tr>\n",
       "      <th>7998</th>\n",
       "      <td>238.358002</td>\n",
       "      <td>252.729996</td>\n",
       "    </tr>\n",
       "    <tr>\n",
       "      <th>7999</th>\n",
       "      <td>159.242004</td>\n",
       "      <td>177.431000</td>\n",
       "    </tr>\n",
       "  </tbody>\n",
       "</table>\n",
       "<p>8000 rows × 2 columns</p>\n",
       "</div>"
      ],
      "text/plain": [
       "               x           y\n",
       "0      68.601997  102.491997\n",
       "1     454.665985  264.808990\n",
       "2     101.283997  169.285995\n",
       "3     372.614990  263.140991\n",
       "4     300.989014   46.555000\n",
       "...          ...         ...\n",
       "7995  442.420990  303.721985\n",
       "7996  495.451996  288.502991\n",
       "7997  267.605011  141.725006\n",
       "7998  238.358002  252.729996\n",
       "7999  159.242004  177.431000\n",
       "\n",
       "[8000 rows x 2 columns]"
      ]
     },
     "execution_count": 18,
     "metadata": {},
     "output_type": "execute_result"
    }
   ],
   "source": [
    "dataset(\"t4_8k\")"
   ]
  },
  {
   "cell_type": "markdown",
   "id": "21d5405f",
   "metadata": {},
   "source": [
    "## Making regions"
   ]
  },
  {
   "cell_type": "code",
   "execution_count": 19,
   "id": "832cf28e",
   "metadata": {},
   "outputs": [],
   "source": [
    "a3 = dataset(\"a3\")"
   ]
  },
  {
   "cell_type": "code",
   "execution_count": 20,
   "id": "59dbd036",
   "metadata": {},
   "outputs": [],
   "source": [
    "from headss2 import make_regions"
   ]
  },
  {
   "cell_type": "code",
   "execution_count": 21,
   "id": "2c9ffb27",
   "metadata": {},
   "outputs": [],
   "source": [
    "regs_a3 = make_regions(df = a3, \n",
    "             n = 2,   # number of cuts in base layer\n",
    "             split_columns = ['x', 'y'])  # columns to be used for splitting"
   ]
  },
  {
   "cell_type": "markdown",
   "id": "10c9d853",
   "metadata": {},
   "source": [
    "`make_regions` returns a `Regions` object, with two attributes: `split_data` (dataset partitioned into regions) and `split_regions` (summary statistics about each region)"
   ]
  },
  {
   "cell_type": "code",
   "execution_count": 22,
   "id": "e9ede61a",
   "metadata": {},
   "outputs": [
    {
     "data": {
      "text/html": [
       "<div>\n",
       "<style scoped>\n",
       "    .dataframe tbody tr th:only-of-type {\n",
       "        vertical-align: middle;\n",
       "    }\n",
       "\n",
       "    .dataframe tbody tr th {\n",
       "        vertical-align: top;\n",
       "    }\n",
       "\n",
       "    .dataframe thead th {\n",
       "        text-align: right;\n",
       "    }\n",
       "</style>\n",
       "<table border=\"1\" class=\"dataframe\">\n",
       "  <thead>\n",
       "    <tr style=\"text-align: right;\">\n",
       "      <th></th>\n",
       "      <th>x</th>\n",
       "      <th>y</th>\n",
       "      <th>region</th>\n",
       "    </tr>\n",
       "  </thead>\n",
       "  <tbody>\n",
       "    <tr>\n",
       "      <th>0</th>\n",
       "      <td>8960</td>\n",
       "      <td>29349</td>\n",
       "      <td>0</td>\n",
       "    </tr>\n",
       "    <tr>\n",
       "      <th>1</th>\n",
       "      <td>9566</td>\n",
       "      <td>30666</td>\n",
       "      <td>0</td>\n",
       "    </tr>\n",
       "    <tr>\n",
       "      <th>2</th>\n",
       "      <td>10002</td>\n",
       "      <td>29085</td>\n",
       "      <td>0</td>\n",
       "    </tr>\n",
       "    <tr>\n",
       "      <th>3</th>\n",
       "      <td>9051</td>\n",
       "      <td>28004</td>\n",
       "      <td>0</td>\n",
       "    </tr>\n",
       "    <tr>\n",
       "      <th>4</th>\n",
       "      <td>8262</td>\n",
       "      <td>29745</td>\n",
       "      <td>0</td>\n",
       "    </tr>\n",
       "    <tr>\n",
       "      <th>...</th>\n",
       "      <td>...</td>\n",
       "      <td>...</td>\n",
       "      <td>...</td>\n",
       "    </tr>\n",
       "    <tr>\n",
       "      <th>17088</th>\n",
       "      <td>42558</td>\n",
       "      <td>33844</td>\n",
       "      <td>8</td>\n",
       "    </tr>\n",
       "    <tr>\n",
       "      <th>17089</th>\n",
       "      <td>45411</td>\n",
       "      <td>33445</td>\n",
       "      <td>8</td>\n",
       "    </tr>\n",
       "    <tr>\n",
       "      <th>17090</th>\n",
       "      <td>45644</td>\n",
       "      <td>35586</td>\n",
       "      <td>8</td>\n",
       "    </tr>\n",
       "    <tr>\n",
       "      <th>17091</th>\n",
       "      <td>42617</td>\n",
       "      <td>35670</td>\n",
       "      <td>8</td>\n",
       "    </tr>\n",
       "    <tr>\n",
       "      <th>17092</th>\n",
       "      <td>44482</td>\n",
       "      <td>33700</td>\n",
       "      <td>8</td>\n",
       "    </tr>\n",
       "  </tbody>\n",
       "</table>\n",
       "<p>17093 rows × 3 columns</p>\n",
       "</div>"
      ],
      "text/plain": [
       "           x      y  region\n",
       "0       8960  29349       0\n",
       "1       9566  30666       0\n",
       "2      10002  29085       0\n",
       "3       9051  28004       0\n",
       "4       8262  29745       0\n",
       "...      ...    ...     ...\n",
       "17088  42558  33844       8\n",
       "17089  45411  33445       8\n",
       "17090  45644  35586       8\n",
       "17091  42617  35670       8\n",
       "17092  44482  33700       8\n",
       "\n",
       "[17093 rows x 3 columns]"
      ]
     },
     "execution_count": 22,
     "metadata": {},
     "output_type": "execute_result"
    }
   ],
   "source": [
    "regs_a3.split_data"
   ]
  },
  {
   "cell_type": "code",
   "execution_count": 23,
   "id": "b2f1cc1f",
   "metadata": {},
   "outputs": [
    {
     "data": {
      "text/html": [
       "<div>\n",
       "<style scoped>\n",
       "    .dataframe tbody tr th:only-of-type {\n",
       "        vertical-align: middle;\n",
       "    }\n",
       "\n",
       "    .dataframe tbody tr th {\n",
       "        vertical-align: top;\n",
       "    }\n",
       "\n",
       "    .dataframe thead th {\n",
       "        text-align: right;\n",
       "    }\n",
       "</style>\n",
       "<table border=\"1\" class=\"dataframe\">\n",
       "  <thead>\n",
       "    <tr style=\"text-align: right;\">\n",
       "      <th></th>\n",
       "      <th>region</th>\n",
       "      <th>x_mins</th>\n",
       "      <th>y_mins</th>\n",
       "      <th>x_max</th>\n",
       "      <th>y_max</th>\n",
       "    </tr>\n",
       "  </thead>\n",
       "  <tbody>\n",
       "    <tr>\n",
       "      <th>0</th>\n",
       "      <td>0</td>\n",
       "      <td>0.00</td>\n",
       "      <td>976.0</td>\n",
       "      <td>32767.50</td>\n",
       "      <td>32559.0</td>\n",
       "    </tr>\n",
       "    <tr>\n",
       "      <th>1</th>\n",
       "      <td>1</td>\n",
       "      <td>0.00</td>\n",
       "      <td>16767.5</td>\n",
       "      <td>32767.50</td>\n",
       "      <td>48350.5</td>\n",
       "    </tr>\n",
       "    <tr>\n",
       "      <th>2</th>\n",
       "      <td>2</td>\n",
       "      <td>0.00</td>\n",
       "      <td>32559.0</td>\n",
       "      <td>32767.50</td>\n",
       "      <td>64142.0</td>\n",
       "    </tr>\n",
       "    <tr>\n",
       "      <th>3</th>\n",
       "      <td>3</td>\n",
       "      <td>16383.75</td>\n",
       "      <td>976.0</td>\n",
       "      <td>49151.25</td>\n",
       "      <td>32559.0</td>\n",
       "    </tr>\n",
       "    <tr>\n",
       "      <th>4</th>\n",
       "      <td>4</td>\n",
       "      <td>16383.75</td>\n",
       "      <td>16767.5</td>\n",
       "      <td>49151.25</td>\n",
       "      <td>48350.5</td>\n",
       "    </tr>\n",
       "    <tr>\n",
       "      <th>5</th>\n",
       "      <td>5</td>\n",
       "      <td>16383.75</td>\n",
       "      <td>32559.0</td>\n",
       "      <td>49151.25</td>\n",
       "      <td>64142.0</td>\n",
       "    </tr>\n",
       "    <tr>\n",
       "      <th>6</th>\n",
       "      <td>6</td>\n",
       "      <td>32767.50</td>\n",
       "      <td>976.0</td>\n",
       "      <td>65535.00</td>\n",
       "      <td>32559.0</td>\n",
       "    </tr>\n",
       "    <tr>\n",
       "      <th>7</th>\n",
       "      <td>7</td>\n",
       "      <td>32767.50</td>\n",
       "      <td>16767.5</td>\n",
       "      <td>65535.00</td>\n",
       "      <td>48350.5</td>\n",
       "    </tr>\n",
       "    <tr>\n",
       "      <th>8</th>\n",
       "      <td>8</td>\n",
       "      <td>32767.50</td>\n",
       "      <td>32559.0</td>\n",
       "      <td>65535.00</td>\n",
       "      <td>64142.0</td>\n",
       "    </tr>\n",
       "  </tbody>\n",
       "</table>\n",
       "</div>"
      ],
      "text/plain": [
       "   region    x_mins   y_mins     x_max    y_max\n",
       "0       0      0.00    976.0  32767.50  32559.0\n",
       "1       1      0.00  16767.5  32767.50  48350.5\n",
       "2       2      0.00  32559.0  32767.50  64142.0\n",
       "3       3  16383.75    976.0  49151.25  32559.0\n",
       "4       4  16383.75  16767.5  49151.25  48350.5\n",
       "5       5  16383.75  32559.0  49151.25  64142.0\n",
       "6       6  32767.50    976.0  65535.00  32559.0\n",
       "7       7  32767.50  16767.5  65535.00  48350.5\n",
       "8       8  32767.50  32559.0  65535.00  64142.0"
      ]
     },
     "execution_count": 23,
     "metadata": {},
     "output_type": "execute_result"
    }
   ],
   "source": [
    "regs_a3.split_regions"
   ]
  },
  {
   "cell_type": "markdown",
   "id": "b30e72af",
   "metadata": {},
   "source": [
    "## Clustering with HDBSCAN"
   ]
  },
  {
   "cell_type": "markdown",
   "id": "442def80",
   "metadata": {},
   "source": [
    "This module is just a wrapper around HDBSCAN, so to select appropriate parameters for your dataset, please refer to the [HDBSCAN documentation](https://hdbscan.readthedocs.io/en/latest/index.html)."
   ]
  },
  {
   "cell_type": "code",
   "execution_count": 24,
   "id": "7f6b6563",
   "metadata": {},
   "outputs": [],
   "source": [
    "from headss2 import cluster\n",
    "clustered_a3 = cluster(split_data=regs_a3.split_data,\n",
    "        min_cluster_size=10,\n",
    "        min_samples=None,\n",
    "        cluster_method='eom',\n",
    "        allow_single_cluster=False,\n",
    "        cluster_columns=['x', 'y'])"
   ]
  },
  {
   "cell_type": "code",
   "execution_count": 25,
   "id": "3f46efd1",
   "metadata": {},
   "outputs": [
    {
     "data": {
      "text/html": [
       "<div>\n",
       "<style scoped>\n",
       "    .dataframe tbody tr th:only-of-type {\n",
       "        vertical-align: middle;\n",
       "    }\n",
       "\n",
       "    .dataframe tbody tr th {\n",
       "        vertical-align: top;\n",
       "    }\n",
       "\n",
       "    .dataframe thead th {\n",
       "        text-align: right;\n",
       "    }\n",
       "</style>\n",
       "<table border=\"1\" class=\"dataframe\">\n",
       "  <thead>\n",
       "    <tr style=\"text-align: right;\">\n",
       "      <th></th>\n",
       "      <th>x</th>\n",
       "      <th>y</th>\n",
       "      <th>region</th>\n",
       "      <th>group</th>\n",
       "    </tr>\n",
       "  </thead>\n",
       "  <tbody>\n",
       "    <tr>\n",
       "      <th>0</th>\n",
       "      <td>8960</td>\n",
       "      <td>29349</td>\n",
       "      <td>0</td>\n",
       "      <td>1</td>\n",
       "    </tr>\n",
       "    <tr>\n",
       "      <th>1</th>\n",
       "      <td>9566</td>\n",
       "      <td>30666</td>\n",
       "      <td>0</td>\n",
       "      <td>1</td>\n",
       "    </tr>\n",
       "    <tr>\n",
       "      <th>2</th>\n",
       "      <td>10002</td>\n",
       "      <td>29085</td>\n",
       "      <td>0</td>\n",
       "      <td>1</td>\n",
       "    </tr>\n",
       "    <tr>\n",
       "      <th>3</th>\n",
       "      <td>9051</td>\n",
       "      <td>28004</td>\n",
       "      <td>0</td>\n",
       "      <td>1</td>\n",
       "    </tr>\n",
       "    <tr>\n",
       "      <th>4</th>\n",
       "      <td>8262</td>\n",
       "      <td>29745</td>\n",
       "      <td>0</td>\n",
       "      <td>1</td>\n",
       "    </tr>\n",
       "    <tr>\n",
       "      <th>...</th>\n",
       "      <td>...</td>\n",
       "      <td>...</td>\n",
       "      <td>...</td>\n",
       "      <td>...</td>\n",
       "    </tr>\n",
       "    <tr>\n",
       "      <th>15449</th>\n",
       "      <td>42558</td>\n",
       "      <td>33844</td>\n",
       "      <td>8</td>\n",
       "      <td>104</td>\n",
       "    </tr>\n",
       "    <tr>\n",
       "      <th>15450</th>\n",
       "      <td>45411</td>\n",
       "      <td>33445</td>\n",
       "      <td>8</td>\n",
       "      <td>104</td>\n",
       "    </tr>\n",
       "    <tr>\n",
       "      <th>15451</th>\n",
       "      <td>45644</td>\n",
       "      <td>35586</td>\n",
       "      <td>8</td>\n",
       "      <td>104</td>\n",
       "    </tr>\n",
       "    <tr>\n",
       "      <th>15452</th>\n",
       "      <td>42617</td>\n",
       "      <td>35670</td>\n",
       "      <td>8</td>\n",
       "      <td>104</td>\n",
       "    </tr>\n",
       "    <tr>\n",
       "      <th>15453</th>\n",
       "      <td>44482</td>\n",
       "      <td>33700</td>\n",
       "      <td>8</td>\n",
       "      <td>104</td>\n",
       "    </tr>\n",
       "  </tbody>\n",
       "</table>\n",
       "<p>15454 rows × 4 columns</p>\n",
       "</div>"
      ],
      "text/plain": [
       "           x      y  region  group\n",
       "0       8960  29349       0      1\n",
       "1       9566  30666       0      1\n",
       "2      10002  29085       0      1\n",
       "3       9051  28004       0      1\n",
       "4       8262  29745       0      1\n",
       "...      ...    ...     ...    ...\n",
       "15449  42558  33844       8    104\n",
       "15450  45411  33445       8    104\n",
       "15451  45644  35586       8    104\n",
       "15452  42617  35670       8    104\n",
       "15453  44482  33700       8    104\n",
       "\n",
       "[15454 rows x 4 columns]"
      ]
     },
     "execution_count": 25,
     "metadata": {},
     "output_type": "execute_result"
    }
   ],
   "source": [
    "clustered_a3"
   ]
  },
  {
   "cell_type": "markdown",
   "id": "e1ea4dd9",
   "metadata": {},
   "source": [
    "## Stitching\n",
    "Stitching refers to the process of joining the regions that have each been processed in parallel. There are no parameters for users to fine tune at this stage"
   ]
  },
  {
   "cell_type": "code",
   "execution_count": 26,
   "id": "441de260",
   "metadata": {},
   "outputs": [
    {
     "data": {
      "text/html": [
       "<div>\n",
       "<style scoped>\n",
       "    .dataframe tbody tr th:only-of-type {\n",
       "        vertical-align: middle;\n",
       "    }\n",
       "\n",
       "    .dataframe tbody tr th {\n",
       "        vertical-align: top;\n",
       "    }\n",
       "\n",
       "    .dataframe thead th {\n",
       "        text-align: right;\n",
       "    }\n",
       "</style>\n",
       "<table border=\"1\" class=\"dataframe\">\n",
       "  <thead>\n",
       "    <tr style=\"text-align: right;\">\n",
       "      <th></th>\n",
       "      <th>x</th>\n",
       "      <th>y</th>\n",
       "      <th>region</th>\n",
       "      <th>group</th>\n",
       "    </tr>\n",
       "  </thead>\n",
       "  <tbody>\n",
       "    <tr>\n",
       "      <th>148</th>\n",
       "      <td>4764</td>\n",
       "      <td>24290</td>\n",
       "      <td>0</td>\n",
       "      <td>2</td>\n",
       "    </tr>\n",
       "    <tr>\n",
       "      <th>149</th>\n",
       "      <td>3241</td>\n",
       "      <td>23730</td>\n",
       "      <td>0</td>\n",
       "      <td>2</td>\n",
       "    </tr>\n",
       "    <tr>\n",
       "      <th>150</th>\n",
       "      <td>3373</td>\n",
       "      <td>24827</td>\n",
       "      <td>0</td>\n",
       "      <td>2</td>\n",
       "    </tr>\n",
       "    <tr>\n",
       "      <th>151</th>\n",
       "      <td>894</td>\n",
       "      <td>24681</td>\n",
       "      <td>0</td>\n",
       "      <td>2</td>\n",
       "    </tr>\n",
       "    <tr>\n",
       "      <th>152</th>\n",
       "      <td>5567</td>\n",
       "      <td>22531</td>\n",
       "      <td>0</td>\n",
       "      <td>2</td>\n",
       "    </tr>\n",
       "    <tr>\n",
       "      <th>...</th>\n",
       "      <td>...</td>\n",
       "      <td>...</td>\n",
       "      <td>...</td>\n",
       "      <td>...</td>\n",
       "    </tr>\n",
       "    <tr>\n",
       "      <th>15312</th>\n",
       "      <td>48382</td>\n",
       "      <td>60296</td>\n",
       "      <td>8</td>\n",
       "      <td>102</td>\n",
       "    </tr>\n",
       "    <tr>\n",
       "      <th>15313</th>\n",
       "      <td>47369</td>\n",
       "      <td>59613</td>\n",
       "      <td>8</td>\n",
       "      <td>102</td>\n",
       "    </tr>\n",
       "    <tr>\n",
       "      <th>15314</th>\n",
       "      <td>45278</td>\n",
       "      <td>59639</td>\n",
       "      <td>8</td>\n",
       "      <td>102</td>\n",
       "    </tr>\n",
       "    <tr>\n",
       "      <th>15315</th>\n",
       "      <td>48789</td>\n",
       "      <td>60495</td>\n",
       "      <td>8</td>\n",
       "      <td>102</td>\n",
       "    </tr>\n",
       "    <tr>\n",
       "      <th>15316</th>\n",
       "      <td>47195</td>\n",
       "      <td>59087</td>\n",
       "      <td>8</td>\n",
       "      <td>102</td>\n",
       "    </tr>\n",
       "  </tbody>\n",
       "</table>\n",
       "<p>6589 rows × 4 columns</p>\n",
       "</div>"
      ],
      "text/plain": [
       "           x      y  region  group\n",
       "148     4764  24290       0      2\n",
       "149     3241  23730       0      2\n",
       "150     3373  24827       0      2\n",
       "151      894  24681       0      2\n",
       "152     5567  22531       0      2\n",
       "...      ...    ...     ...    ...\n",
       "15312  48382  60296       8    102\n",
       "15313  47369  59613       8    102\n",
       "15314  45278  59639       8    102\n",
       "15315  48789  60495       8    102\n",
       "15316  47195  59087       8    102\n",
       "\n",
       "[6589 rows x 4 columns]"
      ]
     },
     "execution_count": 26,
     "metadata": {},
     "output_type": "execute_result"
    }
   ],
   "source": [
    "from headss2 import stitch\n",
    "stitch(clustered_data=clustered_a3,\n",
    "       split_columns=['x', 'y'],\n",
    "       stitch_regions=regs_a3.stitch_regions)"
   ]
  },
  {
   "cell_type": "markdown",
   "id": "ee5f0247",
   "metadata": {},
   "source": [
    "## Merging"
   ]
  },
  {
   "cell_type": "markdown",
   "id": "d12844d0",
   "metadata": {},
   "source": [
    "Finally, HEADSS2 can identify overlapping clusters and merge them to improve results.\n",
    "\n",
    "`a3` does not require merging, so we are going to use `t4_8k` for this."
   ]
  },
  {
   "cell_type": "markdown",
   "id": "5cf05fcd",
   "metadata": {},
   "source": [
    "First, we'll need to make regions, cluster, and stitch the data as before:"
   ]
  },
  {
   "cell_type": "code",
   "execution_count": 27,
   "id": "66c196b3",
   "metadata": {},
   "outputs": [],
   "source": [
    "t4_8k = dataset(\"t4_8k\")\n",
    "\n",
    "regs_t4_8k = make_regions(df=t4_8k, n=2, split_columns=['x', 'y'])\n",
    "\n",
    "clustered_t4_8k = cluster(split_data=regs_t4_8k.split_data,\n",
    "                          cluster_columns=['x', 'y'],\n",
    "                          min_cluster_size=30,\n",
    "                          min_samples=10,\n",
    "                          cluster_method='eom',\n",
    "                          allow_single_cluster=False)\n",
    "\n",
    "stitched_t4_8k = stitch(clustered_data=clustered_t4_8k,\n",
    "                        split_columns=['x', 'y'],\n",
    "                        stitch_regions=regs_t4_8k.stitch_regions)"
   ]
  },
  {
   "cell_type": "markdown",
   "id": "b8a9aa73",
   "metadata": {},
   "source": [
    "Then perform the merging. See the [documentation](https://headss2.readthedocs.io/en/latest/) for details on these parameters."
   ]
  },
  {
   "cell_type": "code",
   "execution_count": 28,
   "id": "2a23c714",
   "metadata": {},
   "outputs": [],
   "source": [
    "from headss2 import merge_clusters\n",
    "\n",
    "merged_t4_8k = merge_clusters(\n",
    "    clustered=stitched_t4_8k,\n",
    "    group_col=\"group\",\n",
    "    split_regions=regs_t4_8k.split_regions,\n",
    "    split_columns=[\"x\", \"y\"],\n",
    "    minimum_members=10,\n",
    "    overlap_threshold=0.5,\n",
    "    total_threshold=0.1,\n",
    "    n_cores=1\n",
    ")"
   ]
  },
  {
   "cell_type": "markdown",
   "id": "96e6f255",
   "metadata": {},
   "source": [
    "#### Before merging:"
   ]
  },
  {
   "cell_type": "code",
   "execution_count": 29,
   "id": "c6e88911",
   "metadata": {},
   "outputs": [
    {
     "data": {
      "text/plain": [
       "<matplotlib.collections.PathCollection at 0x75ba3fa3d520>"
      ]
     },
     "execution_count": 29,
     "metadata": {},
     "output_type": "execute_result"
    },
    {
     "data": {
      "image/png": "[encoded data removed]",
      "text/plain": [
       "<Figure size 640x480 with 1 Axes>"
      ]
     },
     "metadata": {},
     "output_type": "display_data"
    }
   ],
   "source": [
    "import matplotlib.pyplot as plt\n",
    "plt.scatter(stitched_t4_8k.x, stitched_t4_8k.y, c = stitched_t4_8k.group)"
   ]
  },
  {
   "cell_type": "markdown",
   "id": "f1689629",
   "metadata": {},
   "source": [
    "#### With merging:"
   ]
  },
  {
   "cell_type": "code",
   "execution_count": 30,
   "id": "4269e502",
   "metadata": {},
   "outputs": [
    {
     "data": {
      "text/plain": [
       "<matplotlib.collections.PathCollection at 0x75ba3fbc8320>"
      ]
     },
     "execution_count": 30,
     "metadata": {},
     "output_type": "execute_result"
    },
    {
     "data": {
      "image/png": "[encoded data removed]",
      "text/plain": [
       "<Figure size 640x480 with 1 Axes>"
      ]
     },
     "metadata": {},
     "output_type": "display_data"
    }
   ],
   "source": [
    "plt.scatter(merged_t4_8k.x, merged_t4_8k.y, c = merged_t4_8k.group)"
   ]
  },
  {
   "cell_type": "markdown",
   "id": "17e51483",
   "metadata": {},
   "source": []
  }
 ],
 "metadata": {
  "kernelspec": {
   "display_name": "headss_py312",
   "language": "python",
   "name": "python3"
  },
  "language_info": {
   "codemirror_mode": {
    "name": "ipython",
    "version": 3
   },
   "file_extension": ".py",
   "mimetype": "text/x-python",
   "name": "python",
   "nbconvert_exporter": "python",
   "pygments_lexer": "ipython3",
   "version": "3.12.11"
  }
 },
 "nbformat": 4,
 "nbformat_minor": 5
}
